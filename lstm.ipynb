{
 "cells": [
  {
   "cell_type": "code",
   "execution_count": 1,
   "id": "6d564c29",
   "metadata": {},
   "outputs": [],
   "source": [
    "import numpy as np\n",
    "import keras\n",
    "import tensorflow as tf\n",
    "from keras.models import *\n",
    "from keras.layers import *\n",
    "from keras.callbacks import *"
   ]
  },
  {
   "cell_type": "code",
   "execution_count": 2,
   "id": "52d74bd0",
   "metadata": {},
   "outputs": [],
   "source": [
    "class Predictor_LSTM:\n",
    "    def __init__(self,bilstm=False,model_path=None):\n",
    "        self.bilstm=bilstm\n",
    "        self.model_path = model_path\n",
    "    \n",
    "    def build_model(self,input_shape,output_shape):\n",
    "        \n",
    "        lstm_input = Input(shape=input_shape, name='lstm_input')\n",
    "        x = None\n",
    "        if self.bilstm:\n",
    "            x = Bidirectional(LSTM(50, name='lstm_0'))(lstm_input)\n",
    "        else:\n",
    "            x = LSTM(50, name='lstm_0')(lstm_input)\n",
    "        x = Dropout(0.2, name='lstm_dropout_0')(x)\n",
    "        x = Dense(64, name='dense_0')(x)\n",
    "        x = Activation('relu', name='relu_0')(x)\n",
    "        x = Dense(output_shape, name='dense_1')(x)\n",
    "        output = Activation('linear', name='linear_output')(x)\n",
    "        self.model = Model(inputs=lstm_input, outputs=output)\n",
    "        self.model.compile(optimizer='adam', loss='mse', metrics=['mae', 'mape'])"
   ]
  },
  {
   "cell_type": "code",
   "execution_count": 3,
   "id": "21f234d8",
   "metadata": {},
   "outputs": [],
   "source": [
    "def load_modell(self):\n",
    "        self.model = load_model(self.model_path,compile=True)\n",
    "        "
   ]
  },
  {
   "cell_type": "code",
   "execution_count": 4,
   "id": "e8cbbe67",
   "metadata": {},
   "outputs": [],
   "source": [
    "def train_model(self,x_train, y_train, x_test, y_test, batch_size, epochs):\n",
    "        callbacks = [EarlyStopping(patience=3, verbose=1),\n",
    "                ReduceLROnPlateau(factor=0.1, patience=3, min_lr=0.01, verbose=1)]#,ModelCheckpoint(filepath='model'+str(i)+'.h5', save_best_only=True)]\n",
    "        self.model.fit(x_train, y_train, batch_size=batch_size, epochs=epochs, callbacks = callbacks, verbose=0, validation_split=0.1)#, shuffle=True)\n",
    "        '''evaluation = self.model.evaluate(x_test, y_test)\n",
    "        return evaluation'''"
   ]
  },
  {
   "cell_type": "code",
   "execution_count": 5,
   "id": "05ecaae8",
   "metadata": {},
   "outputs": [],
   "source": [
    "def predict(self,x):\n",
    "        return self.model.predict(x)"
   ]
  },
  {
   "cell_type": "code",
   "execution_count": 7,
   "id": "764286ab",
   "metadata": {},
   "outputs": [],
   "source": [
    "def evaluate(self,y_normaliser, x_train, x_test, real_y_train, real_y_test):\n",
    "        def get_mape(y_true, y_pred): \n",
    "            \"\"\"\n",
    "            Compute mean absolute percentage error (MAPE)\n",
    "            \"\"\"\n",
    "            y_true, y_pred = np.array(y_true), np.array(y_pred)\n",
    "            return np.mean(np.abs((y_true - y_pred) / y_true)) * 100"
   ]
  },
  {
   "cell_type": "code",
   "execution_count": 8,
   "id": "28f43d86",
   "metadata": {},
   "outputs": [],
   "source": [
    "def get_wape(y_true, y_pred): \n",
    "            \"\"\"\n",
    "            Compute weighted absolute percentage error (WAPE)\n",
    "            \"\"\"\n",
    "            y_true, y_pred = np.array(y_true), np.array(y_pred)\n",
    "            return np.sum(np.abs(y_true - y_pred)) / np.sum(y_true) * 100"
   ]
  },
  {
   "cell_type": "code",
   "execution_count": 9,
   "id": "f884f640",
   "metadata": {},
   "outputs": [],
   "source": [
    "def get_mae(a, b):\n",
    "            \"\"\"\n",
    "            Comp mean absolute error e_t = E[|a_t - b_t|]. a and b can be lists.\n",
    "            Returns a vector of len = len(a) = len(b)\n",
    "            \"\"\"\n",
    "            return np.mean(abs(np.array(a)-np.array(b)))"
   ]
  },
  {
   "cell_type": "code",
   "execution_count": 11,
   "id": "4557df78",
   "metadata": {},
   "outputs": [
    {
     "ename": "IndentationError",
     "evalue": "unindent does not match any outer indentation level (<tokenize>, line 8)",
     "output_type": "error",
     "traceback": [
      "\u001b[1;36m  File \u001b[1;32m\"<tokenize>\"\u001b[1;36m, line \u001b[1;32m8\u001b[0m\n\u001b[1;33m    predicted_train = self.predict(x_train)\u001b[0m\n\u001b[1;37m    ^\u001b[0m\n\u001b[1;31mIndentationError\u001b[0m\u001b[1;31m:\u001b[0m unindent does not match any outer indentation level\n"
     ]
    }
   ],
   "source": [
    "def get_rmse(a, b):\n",
    "            \"\"\"\n",
    "            Comp RMSE. a and b can be lists.\n",
    "            Returns a scalar.\n",
    "            \"\"\"\n",
    "            return np.sqrt(np.mean((np.array(a)-np.array(b))**2))\n",
    "        \n",
    "        predicted_train = self.predict(x_train)\n",
    "        predicted_train = y_normaliser.inverse_transform(predicted_train)\n",
    "        print('......Train RMSE...... , ',get_rmse(real_y_train , predicted_train))\n",
    "        print('......Train MAPE...... , ',get_mape(real_y_train , predicted_train))\n",
    "        print('......Train MAE...... , ',get_mae(real_y_train , predicted_train))\n",
    "        print('......Train WAE...... , ',get_wape(real_y_train , predicted_train))\n",
    "\n",
    "        '''predicted_test = self.predict(x_test)\n",
    "        predicted_test = y_normaliser.inverse_transform(predicted_test)\n",
    "        print('......Test RMSE...... , ',get_rmse(real_y_test , predicted_test))\n",
    "        print('......Test MAPE...... , ',get_mape(real_y_test , predicted_test))\n",
    "        print('......Test MAE...... , ',get_mae(real_y_test , predicted_test))\n",
    "        print('......Test WAE...... , ',get_wape(real_y_test , predicted_test))\n",
    "\n",
    "        x = np.append(x_train,x_test,axis=0)\n",
    "        y = np.append(real_y_train,real_y_test,axis=0)\n",
    "        predicted = self.predict(x)\n",
    "        predicted = y_normaliser.inverse_transform(predicted)\n",
    "        print('......Full RMSE...... , ',get_rmse(y , predicted))\n",
    "        print('......Full MAPE...... , ',get_mape(y , predicted))\n",
    "        print('......Full MAE...... , ',get_mae(y , predicted))\n",
    "        print('......Full WAE...... , ',get_wape(y , predicted))'''"
   ]
  },
  {
   "cell_type": "code",
   "execution_count": 12,
   "id": "bbdd33b0",
   "metadata": {},
   "outputs": [
    {
     "ename": "SyntaxError",
     "evalue": "'return' outside function (<ipython-input-12-d25b1727e341>, line 1)",
     "output_type": "error",
     "traceback": [
      "\u001b[1;36m  File \u001b[1;32m\"<ipython-input-12-d25b1727e341>\"\u001b[1;36m, line \u001b[1;32m1\u001b[0m\n\u001b[1;33m    return predicted_train,None#,predicted_test\u001b[0m\n\u001b[1;37m    ^\u001b[0m\n\u001b[1;31mSyntaxError\u001b[0m\u001b[1;31m:\u001b[0m 'return' outside function\n"
     ]
    }
   ],
   "source": [
    "return predicted_train,None#,predicted_test"
   ]
  },
  {
   "cell_type": "code",
   "execution_count": null,
   "id": "0d210570",
   "metadata": {},
   "outputs": [],
   "source": []
  }
 ],
 "metadata": {
  "kernelspec": {
   "display_name": "Python 3",
   "language": "python",
   "name": "python3"
  },
  "language_info": {
   "codemirror_mode": {
    "name": "ipython",
    "version": 3
   },
   "file_extension": ".py",
   "mimetype": "text/x-python",
   "name": "python",
   "nbconvert_exporter": "python",
   "pygments_lexer": "ipython3",
   "version": "3.8.8"
  }
 },
 "nbformat": 4,
 "nbformat_minor": 5
}
