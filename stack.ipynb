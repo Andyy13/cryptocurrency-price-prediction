{
 "cells": [
  {
   "cell_type": "code",
   "execution_count": 1,
   "id": "c8b5e640",
   "metadata": {},
   "outputs": [],
   "source": [
    "import numpy as np\n",
    "import keras\n",
    "import tensorflow as tf\n",
    "from keras.models import *\n",
    "from keras.layers import *\n",
    "from keras.callbacks import *"
   ]
  },
  {
   "cell_type": "code",
   "execution_count": 2,
   "id": "c1746a92",
   "metadata": {},
   "outputs": [],
   "source": [
    "class Predictor_STACK:\n",
    "    def __init__(self,predictors=None,model_path=None):\n",
    "        self.predictors=predictors\n",
    "        self.model_path = model_path"
   ]
  },
  {
   "cell_type": "code",
   "execution_count": 3,
   "id": "acaa829c",
   "metadata": {},
   "outputs": [],
   "source": [
    "def build_model(self,output_shape):\n",
    "        \n",
    "        outputs = []\n",
    "        inputs = []\n",
    "        for predictor in self.predictors:\n",
    "            outputs.append(predictor.predictor.model.output)\n",
    "            inputs.append(predictor.predictor.model.input)\n",
    "        output = Concatenate(axis=-1)(outputs)\n",
    "        output = Dense(64,activation='relu')(output)\n",
    "        output = Dense(output_shape,activation='linear')(output)\n",
    "        self.model = Model(inputs=inputs, outputs=output)\n",
    "        self.model.compile(loss='mse', optimizer='adam', metrics=['mae', 'mape'])"
   ]
  },
  {
   "cell_type": "code",
   "execution_count": 4,
   "id": "16b8b7f0",
   "metadata": {},
   "outputs": [],
   "source": [
    "def load_modell(self):\n",
    "        self.model = load_model(self.model_path,compile=True)"
   ]
  },
  {
   "cell_type": "code",
   "execution_count": 5,
   "id": "66e06404",
   "metadata": {},
   "outputs": [],
   "source": [
    "def train_model(self,x_trains, y_train, x_tests, y_test, batch_size, epochs):\n",
    "        callbacks = [EarlyStopping(patience=3, verbose=1),\n",
    "                ReduceLROnPlateau(factor=0.1, patience=3, min_lr=0.01, verbose=1)]#,ModelCheckpoint(filepath='model'+str(i)+'.h5', save_best_only=True)]\n",
    "        self.model.fit(x_trains, y_train, batch_size=batch_size, epochs=epochs, callbacks = callbacks, verbose=0, validation_split=0.1)#, shuffle=True)\n",
    "        '''evaluation = self.model.evaluate(x_tests, y_test)\n",
    "        return evaluation'''"
   ]
  },
  {
   "cell_type": "code",
   "execution_count": 6,
   "id": "6b641a5b",
   "metadata": {},
   "outputs": [],
   "source": [
    "def predict(self,x):\n",
    "        return self.model.predict(x)"
   ]
  },
  {
   "cell_type": "code",
   "execution_count": 7,
   "id": "4e7b2a6f",
   "metadata": {},
   "outputs": [],
   "source": [
    "def evaluate(self,y_normaliser, x_trains, x_tests, real_y_train, real_y_test):\n",
    "        def get_mape(y_true, y_pred): \n",
    "            \"\"\"\n",
    "            Compute mean absolute percentage error (MAPE)\n",
    "            \"\"\"\n",
    "            y_true, y_pred = np.array(y_true), np.array(y_pred)\n",
    "            return np.mean(np.abs((y_true - y_pred) / y_true)) * 100"
   ]
  },
  {
   "cell_type": "code",
   "execution_count": 8,
   "id": "a8b63060",
   "metadata": {},
   "outputs": [],
   "source": [
    "def get_wape(y_true, y_pred): \n",
    "            \"\"\"\n",
    "            Compute weighted absolute percentage error (WAPE)\n",
    "            \"\"\"\n",
    "            y_true, y_pred = np.array(y_true), np.array(y_pred)\n",
    "            return np.sum(np.abs(y_true - y_pred)) / np.sum(y_true) * 100"
   ]
  },
  {
   "cell_type": "code",
   "execution_count": 9,
   "id": "aef63dde",
   "metadata": {},
   "outputs": [],
   "source": [
    "def get_mae(a, b):\n",
    "            \"\"\"\n",
    "            Comp mean absolute error e_t = E[|a_t - b_t|]. a and b can be lists.\n",
    "            Returns a vector of len = len(a) = len(b)\n",
    "            \"\"\"\n",
    "            return np.mean(abs(np.array(a)-np.array(b)))"
   ]
  },
  {
   "cell_type": "code",
   "execution_count": 11,
   "id": "3c3aafce",
   "metadata": {},
   "outputs": [
    {
     "ename": "IndentationError",
     "evalue": "unindent does not match any outer indentation level (<tokenize>, line 8)",
     "output_type": "error",
     "traceback": [
      "\u001b[1;36m  File \u001b[1;32m\"<tokenize>\"\u001b[1;36m, line \u001b[1;32m8\u001b[0m\n\u001b[1;33m    predicted_train = self.predict(x_trains)\u001b[0m\n\u001b[1;37m    ^\u001b[0m\n\u001b[1;31mIndentationError\u001b[0m\u001b[1;31m:\u001b[0m unindent does not match any outer indentation level\n"
     ]
    }
   ],
   "source": [
    "def get_rmse(a, b):\n",
    "            \"\"\"\n",
    "            Comp RMSE. a and b can be lists.\n",
    "            Returns a scalar.\n",
    "            \"\"\"\n",
    "            return np.sqrt(np.mean((np.array(a)-np.array(b))**2))\n",
    "        \n",
    "        predicted_train = self.predict(x_trains)\n",
    "        predicted_train = y_normaliser.inverse_transform(predicted_train)\n",
    "        print('......Train RMSE...... , ',get_rmse(real_y_train , predicted_train))\n",
    "        print('......Train MAPE...... , ',get_mape(real_y_train , predicted_train))\n",
    "        print('......Train MAE...... , ',get_mae(real_y_train , predicted_train))\n",
    "        print('......Train WAE...... , ',get_wape(real_y_train , predicted_train))\n",
    "\n",
    "        '''predicted_test = self.predict(x_tests)\n",
    "        predicted_test = y_normaliser.inverse_transform(predicted_test)\n",
    "        print('......Test RMSE...... , ',get_rmse(real_y_test , predicted_test))\n",
    "        print('......Test MAPE...... , ',get_mape(real_y_test , predicted_test))\n",
    "        print('......Test MAE...... , ',get_mae(real_y_test , predicted_test))\n",
    "        print('......Test WAE...... , ',get_wape(real_y_test , predicted_test))\n",
    "        \n",
    "        x = []\n",
    "        for i in range(len(x_trains)):\n",
    "            x.append(np.append(x_trains[i],x_tests[i],axis=0))\n",
    "        y = np.append(real_y_train,real_y_test,axis=0)\n",
    "        predicted = self.predict(x)\n",
    "        predicted = y_normaliser.inverse_transform(predicted)\n",
    "        print('......Full RMSE...... , ',get_rmse(y , predicted))\n",
    "        print('......Full MAPE...... , ',get_mape(y , predicted))\n",
    "        print('......Full MAE...... , ',get_mae(y , predicted))\n",
    "        print('......Full WAE...... , ',get_wape(y , predicted))'''\n",
    "        "
   ]
  },
  {
   "cell_type": "code",
   "execution_count": null,
   "id": "94d63aff",
   "metadata": {},
   "outputs": [],
   "source": [
    "return predicted_train,None#,predicted_test"
   ]
  }
 ],
 "metadata": {
  "kernelspec": {
   "display_name": "Python 3",
   "language": "python",
   "name": "python3"
  },
  "language_info": {
   "codemirror_mode": {
    "name": "ipython",
    "version": 3
   },
   "file_extension": ".py",
   "mimetype": "text/x-python",
   "name": "python",
   "nbconvert_exporter": "python",
   "pygments_lexer": "ipython3",
   "version": "3.8.8"
  }
 },
 "nbformat": 4,
 "nbformat_minor": 5
}
